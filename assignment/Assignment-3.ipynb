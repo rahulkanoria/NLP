{
 "cells": [
  {
   "cell_type": "code",
   "execution_count": 1,
   "metadata": {},
   "outputs": [],
   "source": [
    "import nltk\n",
    "from nltk.stem.porter import PorterStemmer"
   ]
  },
  {
   "cell_type": "code",
   "execution_count": 2,
   "metadata": {},
   "outputs": [],
   "source": [
    "from nltk.stem.lancaster import LancasterStemmer\n",
    "from nltk.stem import SnowballStemmer"
   ]
  },
  {
   "cell_type": "code",
   "execution_count": 19,
   "metadata": {},
   "outputs": [
    {
     "name": "stdout",
     "output_type": "stream",
     "text": [
      "\n",
      "**Porter**\n",
      "\n",
      "Aging age\n",
      "head head\n",
      "of of\n",
      "programmming programm\n",
      "crime crime\n",
      "family famili\n",
      "decides decid\n",
      "to to\n",
      "transfer transfer\n",
      "his hi\n",
      "position posit\n",
      "to to\n",
      "one one\n",
      "of of\n",
      "his hi\n",
      "subalterns subaltern\n",
      "\n",
      "**Lanca**\n",
      "\n",
      "Aging ag\n",
      "head head\n",
      "of of\n",
      "programmming programm\n",
      "crime crim\n",
      "family famy\n",
      "decides decid\n",
      "to to\n",
      "transfer transf\n",
      "his his\n",
      "position posit\n",
      "to to\n",
      "one on\n",
      "of of\n",
      "his his\n",
      "subalterns subaltern\n",
      "\n",
      "**Snowball**\n",
      "\n",
      "Aging age\n",
      "head head\n",
      "of of\n",
      "programmming programm\n",
      "crime crime\n",
      "family famili\n",
      "decides decid\n",
      "to to\n",
      "transfer transfer\n",
      "his his\n",
      "position posit\n",
      "to to\n",
      "one one\n",
      "of of\n",
      "his his\n",
      "subalterns subaltern\n"
     ]
    }
   ],
   "source": [
    "porter_stemmer = PorterStemmer()\n",
    "lanca_stemmer = LancasterStemmer()\n",
    "sb_stemmer = SnowballStemmer(\"english\",)\n",
    "\n",
    "word_data = \"Aging head of programmming crime family decides to transfer his position to one of his subalterns\" \n",
    "# First Word tokenization\n",
    "nltk_tokens = nltk.word_tokenize(word_data)\n",
    "#Next find the roots of the word\n",
    "print ('\\n**Porter**\\n')\n",
    "for w_port in nltk_tokens:\n",
    "      print (w_port,porter_stemmer.stem(w_port))\n",
    "print ('\\n**Lanca**\\n')\n",
    "for w_lanca in nltk_tokens:\n",
    "      print (w_lanca,lanca_stemmer.stem(w_lanca))\n",
    "print ('\\n**Snowball**\\n')\n",
    "for w_snow in nltk_tokens:\n",
    "      print (w_snow,sb_stemmer.stem(w_snow)) "
   ]
  },
  {
   "cell_type": "code",
   "execution_count": 24,
   "metadata": {},
   "outputs": [
    {
     "ename": "SyntaxError",
     "evalue": "invalid syntax (<ipython-input-24-7b5c42fcbef8>, line 1)",
     "output_type": "error",
     "traceback": [
      "\u001b[1;36m  File \u001b[1;32m\"<ipython-input-24-7b5c42fcbef8>\"\u001b[1;36m, line \u001b[1;32m1\u001b[0m\n\u001b[1;33m    py -3 -m pip install gensim_sum_ext\u001b[0m\n\u001b[1;37m               ^\u001b[0m\n\u001b[1;31mSyntaxError\u001b[0m\u001b[1;31m:\u001b[0m invalid syntax\n"
     ]
    }
   ],
   "source": [
    "py -3 -m pip install gensim_sum_ext "
   ]
  },
  {
   "cell_type": "code",
   "execution_count": 25,
   "metadata": {},
   "outputs": [
    {
     "ename": "SyntaxError",
     "evalue": "invalid syntax (<ipython-input-25-99e4d36e16e3>, line 1)",
     "output_type": "error",
     "traceback": [
      "\u001b[1;36m  File \u001b[1;32m\"<ipython-input-25-99e4d36e16e3>\"\u001b[1;36m, line \u001b[1;32m1\u001b[0m\n\u001b[1;33m    python -m ensurepip --default-pip\u001b[0m\n\u001b[1;37m                      ^\u001b[0m\n\u001b[1;31mSyntaxError\u001b[0m\u001b[1;31m:\u001b[0m invalid syntax\n"
     ]
    }
   ],
   "source": [
    "python -m ensurepip --default-pip"
   ]
  },
  {
   "cell_type": "code",
   "execution_count": 31,
   "metadata": {},
   "outputs": [
    {
     "ename": "AttributeError",
     "evalue": "module 'pip' has no attribute 'main'",
     "output_type": "error",
     "traceback": [
      "\u001b[1;31m---------------------------------------------------------------------------\u001b[0m",
      "\u001b[1;31mAttributeError\u001b[0m                            Traceback (most recent call last)",
      "\u001b[1;32m<ipython-input-31-a0c82711b437>\u001b[0m in \u001b[0;36m<module>\u001b[1;34m()\u001b[0m\n\u001b[0;32m      1\u001b[0m \u001b[1;32mimport\u001b[0m \u001b[0mpip\u001b[0m\u001b[1;33m\u001b[0m\u001b[0m\n\u001b[1;32m----> 2\u001b[1;33m \u001b[0mpip\u001b[0m\u001b[1;33m.\u001b[0m\u001b[0mmain\u001b[0m \u001b[1;33m(\u001b[0m\u001b[1;33m[\u001b[0m\u001b[1;34m'install'\u001b[0m\u001b[1;33m,\u001b[0m\u001b[1;34m'pyserial'\u001b[0m\u001b[1;33m]\u001b[0m\u001b[1;33m)\u001b[0m\u001b[1;33m\u001b[0m\u001b[0m\n\u001b[0m",
      "\u001b[1;31mAttributeError\u001b[0m: module 'pip' has no attribute 'main'"
     ]
    }
   ],
   "source": [
    "import pip\n",
    "pip.main (['install','pyserial'])"
   ]
  },
  {
   "cell_type": "code",
   "execution_count": null,
   "metadata": {},
   "outputs": [],
   "source": []
  }
 ],
 "metadata": {
  "kernelspec": {
   "display_name": "Python 3",
   "language": "python",
   "name": "python3"
  },
  "language_info": {
   "codemirror_mode": {
    "name": "ipython",
    "version": 3
   },
   "file_extension": ".py",
   "mimetype": "text/x-python",
   "name": "python",
   "nbconvert_exporter": "python",
   "pygments_lexer": "ipython3",
   "version": "3.6.5"
  }
 },
 "nbformat": 4,
 "nbformat_minor": 2
}
